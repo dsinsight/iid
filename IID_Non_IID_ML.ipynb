{
  "nbformat": 4,
  "nbformat_minor": 0,
  "metadata": {
    "colab": {
      "provenance": [],
      "authorship_tag": "ABX9TyNYyhuaNBXgB/tH1SPS08eo",
      "include_colab_link": true
    },
    "kernelspec": {
      "name": "python3",
      "display_name": "Python 3"
    },
    "language_info": {
      "name": "python"
    }
  },
  "cells": [
    {
      "cell_type": "markdown",
      "metadata": {
        "id": "view-in-github",
        "colab_type": "text"
      },
      "source": [
        "<a href=\"https://colab.research.google.com/github/dsinsight/iid/blob/main/IID_Non_IID_ML.ipynb\" target=\"_parent\"><img src=\"https://colab.research.google.com/assets/colab-badge.svg\" alt=\"Open In Colab\"/></a>"
      ]
    },
    {
      "cell_type": "markdown",
      "source": [
        "##**Python Implementation: Comparing Performance with and without IID Assumption**\n",
        "\n",
        "###**Step 1: Data Generation and Visualization**"
      ],
      "metadata": {
        "id": "LM4oJLhka9XR"
      }
    },
    {
      "cell_type": "markdown",
      "source": [
        "###**Importing Libraries**\n",
        "~~~\n",
        "import numpy as np\n",
        "~~~\n",
        "This line imports the numpy library and gives it a shorter name (np). numpy is a powerful library for working with numerical data in Python, especially arrays.\n",
        "~~~\n",
        "import matplotlib.pyplot as pl\n",
        "~~~\n",
        "This line imports the pyplot module from the matplotlib library and gives it a shorter name (plt). matplotlib is a popular library for creating visualizations in Python, like plots and charts.\n",
        "~~~\n",
        "np.random.seed(42)\n",
        "~~~\n",
        "This line sets the random seed for numpy's random number generator. By setting a seed, we ensure that the random numbers generated are the same every time the code is run. This is important for reproducibility, so others can get the same results when they run your code.\n",
        "\n",
        "###**Generating Data**\n",
        "\n",
        "~~~\n",
        "n_samples = 1000:\n",
        "~~~\n",
        "This line sets the number of data points to generate (1000 in this case).\n",
        "~~~\n",
        "mu, sigma = 0, 1:\n",
        "~~~\n",
        "These lines define the mean (mu) and standard deviation (sigma) for the normal distribution.\n",
        "~~~\n",
        "iid_data = np.random.normal(mu, sigma, n_samples):\n",
        "~~~\n",
        "This line generates n_samples random data points from a normal distribution with the specified mu and sigma. This data is considered IID (Independent and Identically Distributed) because each data point is drawn independently from the same distribution.\n",
        "~~~\n",
        "non_iid_data = np.random.normal(mu, sigma, n_samples) + np.linspace(-2, 2, n_samples):\n",
        "~~~\n",
        "This line generates non-IID data. It starts with the same normal distribution as before, but then adds a linear trend using np.linspace(-2, 2, n_samples). This trend makes the data points dependent on their position in the sequence, violating the independence assumption of IID.\n",
        "\n",
        "\n",
        "###**Plotting the Data**\n",
        "\n",
        "~~~\n",
        "plt.figure(figsize=(12, 6)):\n",
        "~~~\n",
        "This line creates a new figure for the plot with a specific size (12 inches wide, 6 inches tall).\n",
        "~~~\n",
        "plt.subplot(1, 2, 1):\n",
        "~~~\n",
        "This line creates a subplot within the figure. (1, 2, 1) means we are creating a 1x2 grid of subplots and this is the first subplot.\n",
        "~~~\n",
        "plt.hist(...):\n",
        "~~~\n",
        "This line creates a histogram of the iid_data.\n",
        "~~~\n",
        "bins=30:\n",
        "~~~\n",
        "Divides the data into 30 bins for the histogram.\n",
        "~~~\n",
        "alpha=0.7:\n",
        "~~~\n",
        "Sets the transparency of the bars.\n",
        "~~~\n",
        "color='blue':\n",
        "~~~\n",
        "Sets the color of the bars to blue.\n",
        "~~~\n",
        "edgecolor='black':\n",
        "~~~\n",
        "Sets the color of the bar edges to black.\n",
        "~~~\n",
        "plt.title(...), plt.xlabel(...), plt.ylabel(...):\n",
        "~~~\n",
        "These lines set the title, x-axis label, and y-axis label for the subplot. The code then repeats the process to create a second subplot for the non_iid_data.\n",
        "~~~\n",
        "plt.tight_layout():\n",
        "~~~\n",
        "This line adjusts the spacing between subplots to prevent overlapping\n",
        "\n"
      ],
      "metadata": {
        "id": "b1Dr_HhJogmQ"
      }
    },
    {
      "cell_type": "code",
      "execution_count": 3,
      "metadata": {
        "colab": {
          "base_uri": "https://localhost:8080/",
          "height": 581
        },
        "id": "ZL9ThnDam0k0",
        "outputId": "ab56793a-d778-4b82-c15a-3d757b8cd9f4"
      },
      "outputs": [
        {
          "output_type": "display_data",
          "data": {
            "text/plain": [
              "<Figure size 1200x600 with 2 Axes>"
            ],
            "image/png": "[encoded data removed]"
          },
          "metadata": {}
        }
      ],
      "source": [
        "import numpy as np\n",
        "import matplotlib.pyplot as plt\n",
        "\n",
        "# Set random seed for reproducibility\n",
        "np.random.seed(42)\n",
        "\n",
        "# Generate IID data (normal distribution)\n",
        "n_samples = 1000\n",
        "mu, sigma = 0, 1\n",
        "iid_data = np.random.normal(mu, sigma, n_samples)\n",
        "\n",
        "# Generate non-IID data (with a trend)\n",
        "non_iid_data = np.random.normal(mu, sigma, n_samples) + np.linspace(-2, 2, n_samples)\n",
        "\n",
        "# Plot distributions\n",
        "plt.figure(figsize=(12, 6))\n",
        "\n",
        "plt.subplot(1, 2, 1)\n",
        "plt.hist(iid_data, bins=30, alpha=0.7, color='blue', edgecolor='black')\n",
        "plt.title('IID Data')\n",
        "plt.xlabel('Value')\n",
        "plt.ylabel('Frequency')\n",
        "\n",
        "plt.subplot(1, 2, 2)\n",
        "plt.hist(non_iid_data, bins=30, alpha=0.7, color='red', edgecolor='black')\n",
        "plt.title('Non-IID Data')\n",
        "plt.xlabel('Value')\n",
        "plt.ylabel('Frequency')\n",
        "\n",
        "plt.tight_layout()\n",
        "plt.show()"
      ]
    },
    {
      "cell_type": "markdown",
      "source": [
        "###**Step 2: Statistical Tests for IID**\n"
      ],
      "metadata": {
        "id": "KEYL8UPvoj3F"
      }
    },
    {
      "cell_type": "markdown",
      "source": [
        "###**Importing Necessary Functions**\n",
        "\n",
        "~~~\n",
        "from scipy.stats import kstest, pearsonr\n",
        "~~~\n",
        "This line imports two specific functions, kstest and pearsonr, from the scipy.stats library.\n",
        "\n",
        "- kstest is used to perform the Kolmogorov-Smirnov test, which helps us check if a dataset follows a specific distribution (in this case, the normal distribution).\n",
        "- pearsonr is used to calculate the Pearson correlation coefficient, which measures the linear relationship between two datasets. This will help us assess the independence of the data points.\n",
        "\n",
        "###**Kolmogorov-Smirnov Test for Normality**\n",
        "\n",
        "~~~\n",
        "# Kolmogorov-Smirnov Test for normality (IID criteria)\n",
        "kst_iid = kstest(iid_data, 'norm')\n",
        "kst_non_iid = kstest(non_iid_data, 'norm')\n",
        "~~~\n",
        "These lines perform the Kolmogorov-Smirnov test on both the iid_data and the non_iid_data.\n",
        "- kstest(iid_data, 'norm') applies the test to iid_data to see if it follows a normal distribution ('norm'). The results are stored in the variable kst_iid.\n",
        "- kstest(non_iid_data, 'norm') does the same for the non_iid_data, storing results in kst_non_iid.\n",
        "\n",
        "This test is related to the IID assumption because data that is truly IID is often expected to follow a specific theoretical distribution, like the normal distribution in this case.\n",
        "\n",
        "###**Autocorrelation Test for Independence**\n",
        "\n",
        "~~~\n",
        "# Autocorrelation test for independence\n",
        "autocorr_iid = pearsonr(iid_data[:-1], iid_data[1:])[0]\n",
        "autocorr_non_iid = pearsonr(non_iid_data[:-1], non_iid_data[1:])[0]\n",
        "~~~\n",
        "Here, we're using the pearsonr function to check for autocorrelation, which essentially tells us if there's a relationship between a data point and the data point that comes before it. High autocorrelation suggests a lack of independence.\n",
        "\n",
        "- pearsonr(iid_data[:-1], iid_data[1:])[0] calculates the correlation between each data point in iid_data and the one immediately preceding it. [:-1] selects all but the last element, and [1:] selects all but the first element, ensuring we are comparing consecutive data points. The [0] at the end extracts only the correlation coefficient from the function's output. The result is stored in autocorr_iid.\n",
        "- pearsonr(non_iid_data[:-1], non_iid_data[1:])[0] does the same for the non_iid_data, and the result is stored in autocorr_non_iid.\n",
        "\n",
        "###**Displaying the Results**\n",
        "\n",
        "~~~\n",
        "print(\"IID Data KS Test:\", kst_iid)\n",
        "print(\"Non-IID Data KS Test:\", kst_non_iid)\n",
        "print(\"IID Data Autocorrelation:\", autocorr_iid)\n",
        "print(\"Non-IID Data Autocorrelation:\", autocorr_non_iid)\n",
        "~~~\n",
        "- These lines simply print the results of the tests to the console. This allows us to see the outcome of the Kolmogorov-Smirnov test and the autocorrelation test for both the IID and non-IID data.\n",
        "\n",
        "This code snippet assess whether the generated data sets (iid_data and non_iid_data) meet the criteria for being IID (Independent and Identically Distributed) by testing for normality and independence.\n",
        "\n",
        "\n",
        "\n"
      ],
      "metadata": {
        "id": "h1neHG-GbuTm"
      }
    },
    {
      "cell_type": "code",
      "source": [
        "from scipy.stats import kstest, pearsonr\n",
        "\n",
        "# Kolmogorov-Smirnov Test for normality (IID criteria)\n",
        "kst_iid = kstest(iid_data, 'norm')\n",
        "kst_non_iid = kstest(non_iid_data, 'norm')\n",
        "\n",
        "# Autocorrelation test for independence\n",
        "autocorr_iid = pearsonr(iid_data[:-1], iid_data[1:])[0]\n",
        "autocorr_non_iid = pearsonr(non_iid_data[:-1], non_iid_data[1:])[0]\n",
        "\n",
        "print(\"IID Data KS Test:\", kst_iid)\n",
        "print(\"Non-IID Data KS Test:\", kst_non_iid)\n",
        "print(\"IID Data Autocorrelation:\", autocorr_iid)\n",
        "print(\"Non-IID Data Autocorrelation:\", autocorr_non_iid)"
      ],
      "metadata": {
        "colab": {
          "base_uri": "https://localhost:8080/"
        },
        "id": "d8WhMz5XoG7T",
        "outputId": "36c55d4c-bad1-4e41-adbf-22f305d340bd"
      },
      "execution_count": 4,
      "outputs": [
        {
          "output_type": "stream",
          "name": "stdout",
          "text": [
            "IID Data KS Test: KstestResult(statistic=0.017327787320720822, pvalue=0.9196626608357358, statistic_location=-0.07444591576616721, statistic_sign=-1)\n",
            "Non-IID Data KS Test: KstestResult(statistic=0.1388539115168259, pvalue=2.7867598328900075e-17, statistic_location=1.1209898639296418, statistic_sign=-1)\n",
            "IID Data Autocorrelation: -0.007480130657425096\n",
            "Non-IID Data Autocorrelation: 0.5554347895879019\n"
          ]
        }
      ]
    },
    {
      "cell_type": "markdown",
      "source": [
        "###**Step 3: Model Application and Evaluation**\n",
        "\n"
      ],
      "metadata": {
        "id": "WVjg-5xNolUn"
      }
    },
    {
      "cell_type": "code",
      "source": [
        "\n",
        "\n"
      ],
      "metadata": {
        "id": "B4wy6MkSgMUV"
      },
      "execution_count": null,
      "outputs": []
    },
    {
      "cell_type": "markdown",
      "source": [
        "###**Importing Libraries**\n",
        "~~~\n",
        "from sklearn.linear_model import LinearRegression\n",
        "from sklearn.model_selection import train_test_split\n",
        "from sklearn.metrics import mean_squared_error\n",
        "~~~\n",
        "\n",
        "- from sklearn.linear_model import LinearRegression: This imports the LinearRegression class, which is used to create a linear regression model.\n",
        "- from sklearn.model_selection import train_test_split: This imports the train_test_split function, used to divide data into training and testing sets.\n",
        "- from sklearn.metrics import mean_squared_error: This imports the mean_squared_error function, used to evaluate the model's performance.\n",
        "\n",
        "###**Defining fit_and_evaluate Function**\n",
        "~~~\n",
        "def fit_and_evaluate(X, y):\n",
        "    X_train, X_test, y_train, y_test = train_test_split(X, y, test_size=0.2, random_state=42)\n",
        "    model = LinearRegression()\n",
        "    model.fit(X_train, y_train)\n",
        "    predictions = model.predict(X_test)\n",
        "    return mean_squared_error(y_test, predictions)\n",
        "~~~\n",
        "This function takes your data (X for features, y for target) and does the following:\n",
        "\n",
        "- Splits the data: train_test_split divides the data into 80% for training (X_train, y_train) and 20% for testing (X_test, y_test). random_state=42 ensures the split is the same each time for reproducibility.\n",
        "- Creates and trains a model: model = LinearRegression() creates a linear regression model, and model.fit(X_train, y_train) trains it using the training data.\n",
        "- Makes predictions: predictions = model.predict(X_test) uses the trained model to predict values for the test data.\n",
        "- Evaluates performance: mean_squared_error(y_test, predictions) calculates the mean squared error, a measure of how well the predictions match the actual values, and returns this error.\n",
        "\n",
        "###**Generating Data with the Model**\n",
        "\n",
        "~~~\n",
        "#Generate features and targets\n",
        "X_iid = np.random.rand(n_samples, 1) * 10\n",
        "y_iid = 3 * X_iid.squeeze() + np.random.normal(0, 1, n_samples)\n",
        "\n",
        "X_non_iid = np.random.rand(n_samples, 1) * 10\n",
        "y_non_iid = 3 * X_non_iid.squeeze() + np.linspace(-5, 5, n_samples) + np.random.normal(0, 1, n_samples)\n",
        "~~~\n",
        "\n",
        "- X_iid and X_non_iid: These lines create feature data using np.random.rand. They are essentially random numbers between 0 and 10.\n",
        "- y_iid: This line creates target data for the IID case. It's based on X_iid with some added random noise (np.random.normal). It represents a linear relationship.\n",
        "- y_non_iid: This line creates target data for the non-IID case. It's similar to y_iid but includes an additional trend (np.linspace) that makes the data points not identically distributed.\n",
        "\n",
        "\n",
        "###**Evaluating Data with the Model**\n",
        "\n",
        "~~~\n",
        "# Evaluate models\n",
        "mse_iid = fit_and_evaluate(X_iid, y_iid)\n",
        "mse_non_iid = fit_and_evaluate(X_non_iid, y_non_iid)\n",
        "~~~\n",
        "\n",
        "- mse_iid = fit_and_evaluate(X_iid, y_iid): This line uses the fit_and_evaluate function to train and evaluate a linear regression model on the IID data, storing the mean squared error in mse_iid.\n",
        "- mse_non_iid = fit_and_evaluate(X_non_iid, y_non_iid): This does the same for the non-IID data, storing the error in mse_non_iid.\n",
        "\n",
        "###**Printing Results**\n",
        "~~~\n",
        "print(f\"Mean Squared Error for IID Data: {mse_iid}\")\n",
        "print(f\"Mean Squared Error for Non-IID Data: {mse_non_iid}\")\n",
        "~~~\n",
        "- These lines print the calculated mean squared errors for both the IID and non-IID cases\n",
        "\n"
      ],
      "metadata": {
        "id": "2nPFm1iTgXCa"
      }
    },
    {
      "cell_type": "code",
      "source": [
        "from sklearn.linear_model import LinearRegression\n",
        "from sklearn.model_selection import train_test_split\n",
        "from sklearn.metrics import mean_squared_error\n",
        "\n",
        "def fit_and_evaluate(X, y):\n",
        "    X_train, X_test, y_train, y_test = train_test_split(X, y, test_size=0.2, random_state=42)\n",
        "    model = LinearRegression()\n",
        "    model.fit(X_train, y_train)\n",
        "    predictions = model.predict(X_test)\n",
        "    return mean_squared_error(y_test, predictions)\n",
        "\n",
        "# Generate features and targets\n",
        "X_iid = np.random.rand(n_samples, 1) * 10\n",
        "y_iid = 3 * X_iid.squeeze() + np.random.normal(0, 1, n_samples)\n",
        "\n",
        "X_non_iid = np.random.rand(n_samples, 1) * 10\n",
        "y_non_iid = 3 * X_non_iid.squeeze() + np.linspace(-5, 5, n_samples) + np.random.normal(0, 1, n_samples)\n",
        "\n",
        "# Evaluate models\n",
        "mse_iid = fit_and_evaluate(X_iid, y_iid)\n",
        "mse_non_iid = fit_and_evaluate(X_non_iid, y_non_iid)\n",
        "\n",
        "print(f\"Mean Squared Error for IID Data: {mse_iid}\")\n",
        "print(f\"Mean Squared Error for Non-IID Data: {mse_non_iid}\")"
      ],
      "metadata": {
        "colab": {
          "base_uri": "https://localhost:8080/"
        },
        "id": "IaHc7yEIoT1T",
        "outputId": "3a644a07-c78c-4f61-9b9f-639a31c6e03b"
      },
      "execution_count": null,
      "outputs": [
        {
          "output_type": "stream",
          "name": "stdout",
          "text": [
            "Mean Squared Error for IID Data: 1.0092953045433648\n",
            "Mean Squared Error for Non-IID Data: 9.648951439255994\n"
          ]
        }
      ]
    }
  ]
}